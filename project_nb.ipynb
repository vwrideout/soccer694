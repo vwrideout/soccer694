{
 "cells": [
  {
   "cell_type": "code",
   "execution_count": 1,
   "metadata": {
    "collapsed": false
   },
   "outputs": [],
   "source": [
    "from pyspark import SparkContext, SparkConf\n",
    "from pyspark.sql import Row\n",
    "from datetime import datetime\n",
    "from pyspark.sql.functions import *\n",
    "from pyspark.sql.types import *\n",
    "from pyspark.sql import SQLContext"
   ]
  },
  {
   "cell_type": "code",
   "execution_count": 11,
   "metadata": {
    "collapsed": false
   },
   "outputs": [],
   "source": [
    "app_name = \"i_dunno\"\n",
    "player_file = \"data/Player.csv\"\n",
    "attributes_file = \"data/Player_Attributes.csv\"\n",
    "\n",
    "def toIntSafe(inval):\n",
    "    try:\n",
    "        return int(inval)\n",
    "    except ValueError:\n",
    "        return None\n",
    "\n",
    "def toTimeSafe(inval):\n",
    "    try:\n",
    "        return datetime.strptime(inval, \"%Y-%m-%d %H:%M:%S\")\n",
    "    except ValueError:\n",
    "        return None\n",
    "\n",
    "def toFloatSafe(inval):\n",
    "    try:\n",
    "        return float(inval)\n",
    "    except ValueError:\n",
    "        return \n",
    "\n",
    "def stringToPlayer(s):\n",
    "    return Row(\n",
    "        toIntSafe(s[0]),\n",
    "        toIntSafe(s[1]),\n",
    "        s[2].strip('\"'),\n",
    "        toIntSafe(s[3]),\n",
    "        toTimeSafe(s[4].strip('\"')),\n",
    "        toFloatSafe(s[5]),\n",
    "        toIntSafe(s[6]))\n",
    "\n",
    "def stringToAttributes(s):\n",
    "    return Row(\n",
    "        toIntSafe(s[0]),\n",
    "        toIntSafe(s[1]),\n",
    "        toIntSafe(s[2]),\n",
    "        toTimeSafe(s[3].strip('\"')),\n",
    "        toIntSafe(s[4]),\n",
    "        toIntSafe(s[5]),\n",
    "        s[6],\n",
    "        s[7],\n",
    "        s[8],\n",
    "        *[toIntSafe(field) for field in s[9:]]\n",
    "        )\n",
    "\n",
    "playerSchema = StructType([\n",
    "    StructField(\"id\", IntegerType(), False),\n",
    "    StructField(\"player_api_id\", IntegerType(), True),\n",
    "    StructField(\"player_name\", StringType(), True),\n",
    "    StructField(\"player_fifa_api_id\", IntegerType(), True),\n",
    "    StructField(\"birthday\", TimestampType(), True),\n",
    "    StructField(\"height\", FloatType(), True),\n",
    "    StructField(\"weight\", IntegerType(), True)\n",
    "    ])\n",
    "\n",
    "finalColumns = [\"crossing\",\"finishing\",\"heading_accuracy\",\"short_passing\",\"volleys\",\"dribbling\",\"curve\",\"free_kick_accuracy\",\"long_passing\",\"ball_control\",\"acceleration\",\"sprint_speed\",\"agility\",\"reactions\",\"balance\",\"shot_power\",\"jumping\",\"stamina\",\"strength\",\"long_shots\",\"aggression\",\"interceptions\",\"positioning\",\"vision\",\"penalties\",\"marking\",\"standing_tackle\",\"sliding_tackle\",\"gk_diving\",\"gk_handling\",\"gk_kicking\",\"gk_positioning\",\"gk_reflexes\"]\n",
    "\n",
    "attributesSchema = StructType([\n",
    "    StructField(\"id\", IntegerType(), False),\n",
    "    StructField(\"player_fifa_api_id\", IntegerType(), True),\n",
    "    StructField(\"player_api_id\", IntegerType(), True),\n",
    "    StructField(\"date\", TimestampType(), True),\n",
    "    StructField(\"overall_rating\", IntegerType(), True),\n",
    "    StructField(\"potential\", IntegerType(), True),\n",
    "    StructField(\"preferred_foot\", StringType(), True),\n",
    "    StructField(\"attacking_work_rate\", StringType(), True),\n",
    "    StructField(\"defensive_work_rate\", StringType(), True)] + [StructField(s, IntegerType(), True) for s in finalColumns])\n",
    "\n"
   ]
  },
  {
   "cell_type": "code",
   "execution_count": 12,
   "metadata": {
    "collapsed": true
   },
   "outputs": [],
   "source": [
    "player_rdd = sc.textFile(player_file)\n",
    "player_header = player_rdd.first()\n",
    "player_rdd = player_rdd.filter(lambda row: row != player_header)\n",
    "attributes_rdd = sc.textFile(attributes_file)\n",
    "attributes_header = attributes_rdd.first()\n",
    "attributes_rdd = attributes_rdd.filter(lambda row: row != attributes_header)\n"
   ]
  },
  {
   "cell_type": "code",
   "execution_count": 13,
   "metadata": {
    "collapsed": true
   },
   "outputs": [],
   "source": [
    "player_df = sqlContext.createDataFrame(player_rdd.map(lambda row: stringToPlayer(row.split(','))), playerSchema)\n",
    "attributes_df = sqlContext.createDataFrame(attributes_rdd.map(lambda row: stringToAttributes(row.split(','))), attributesSchema)"
   ]
  },
  {
   "cell_type": "code",
   "execution_count": 14,
   "metadata": {
    "collapsed": false
   },
   "outputs": [],
   "source": [
    "player_merge=player_df.join(attributes_df,player_df.player_api_id==attributes_df.player_api_id,'left')"
   ]
  },
  {
   "cell_type": "markdown",
   "metadata": {},
   "source": [
    "# FeaturesExtraction"
   ]
  },
  {
   "cell_type": "code",
   "execution_count": 15,
   "metadata": {
    "collapsed": false
   },
   "outputs": [],
   "source": [
    "#Calculation of Age\n",
    "df2=player_merge.withColumn('age',datediff('date','birthday')/365.0)\n",
    "df2=df2.withColumn(\"intage\",df2[\"age\"].cast(IntegerType())).drop('age').withColumnRenamed(\"intage\",\"age\")"
   ]
  },
  {
   "cell_type": "code",
   "execution_count": 16,
   "metadata": {
    "collapsed": false
   },
   "outputs": [
    {
     "name": "stdout",
     "output_type": "stream",
     "text": [
      "+---+\n",
      "|age|\n",
      "+---+\n",
      "| 29|\n",
      "| 28|\n",
      "| 28|\n",
      "| 28|\n",
      "| 27|\n",
      "| 27|\n",
      "| 27|\n",
      "| 26|\n",
      "| 25|\n",
      "| 23|\n",
      "| 22|\n",
      "| 21|\n",
      "| 32|\n",
      "| 31|\n",
      "| 31|\n",
      "| 29|\n",
      "| 28|\n",
      "| 28|\n",
      "| 27|\n",
      "| 26|\n",
      "+---+\n",
      "only showing top 20 rows\n",
      "\n"
     ]
    }
   ],
   "source": [
    "df2.select('age').show()"
   ]
  },
  {
   "cell_type": "code",
   "execution_count": null,
   "metadata": {
    "collapsed": true
   },
   "outputs": [],
   "source": []
  }
 ],
 "metadata": {
  "anaconda-cloud": {},
  "kernelspec": {
   "display_name": "Python [conda root]",
   "language": "python",
   "name": "conda-root-py"
  }
 },
 "nbformat": 4,
 "nbformat_minor": 1
}
