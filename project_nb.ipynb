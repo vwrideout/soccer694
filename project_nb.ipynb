{
 "cells": [
  {
   "cell_type": "code",
   "execution_count": 1,
   "metadata": {
    "collapsed": false
   },
   "outputs": [],
   "source": [
    "from pyspark import SparkContext, SparkConf\n",
    "from pyspark.sql import Row\n",
    "from datetime import datetime\n",
    "from pyspark.sql.functions import *\n",
    "from pyspark.sql.types import *\n",
    "from pyspark.sql import SQLContext"
   ]
  },
  {
   "cell_type": "code",
   "execution_count": 2,
   "metadata": {
    "collapsed": false
   },
   "outputs": [],
   "source": [
    "app_name = \"i_dunno\"\n",
    "player_file = \"data/Player.csv\"\n",
    "attributes_file = \"data/Player_Attributes.csv\"\n",
    "\n",
    "def toIntSafe(inval):\n",
    "    try:\n",
    "        return int(inval)\n",
    "    except ValueError:\n",
    "        return None\n",
    "\n",
    "def toTimeSafe(inval):\n",
    "    try:\n",
    "        return datetime.strptime(inval, \"%Y-%m-%d %H:%M:%S\")\n",
    "    except ValueError:\n",
    "        return None\n",
    "\n",
    "def toFloatSafe(inval):\n",
    "    try:\n",
    "        return float(inval)\n",
    "    except ValueError:\n",
    "        return \n",
    "\n",
    "def stringToPlayer(s):\n",
    "    return Row(\n",
    "        toIntSafe(s[0]),\n",
    "        toIntSafe(s[1]),\n",
    "        s[2].strip('\"'),\n",
    "        toIntSafe(s[3]),\n",
    "        toTimeSafe(s[4].strip('\"')),\n",
    "        toFloatSafe(s[5]),\n",
    "        toIntSafe(s[6]))\n",
    "\n",
    "def stringToAttributes(s):\n",
    "    return Row(\n",
    "        toIntSafe(s[0]),\n",
    "        toIntSafe(s[1]),\n",
    "        toIntSafe(s[2]),\n",
    "        toTimeSafe(s[3].strip('\"')),\n",
    "        toIntSafe(s[4]),\n",
    "        toIntSafe(s[5]),\n",
    "        s[6],\n",
    "        s[7],\n",
    "        s[8],\n",
    "        *[toIntSafe(field) for field in s[9:]]\n",
    "        )\n",
    "\n",
    "playerSchema = StructType([\n",
    "    StructField(\"id\", IntegerType(), False),\n",
    "    StructField(\"player_api_id\", IntegerType(), True),\n",
    "    StructField(\"player_name\", StringType(), True),\n",
    "    StructField(\"player_fifa_api_id\", IntegerType(), True),\n",
    "    StructField(\"birthday\", TimestampType(), True),\n",
    "    StructField(\"height\", FloatType(), True),\n",
    "    StructField(\"weight\", IntegerType(), True)\n",
    "    ])\n",
    "\n",
    "finalColumns = [\"crossing\",\"finishing\",\"heading_accuracy\",\"short_passing\",\"volleys\",\"dribbling\",\"curve\",\"free_kick_accuracy\",\"long_passing\",\"ball_control\",\"acceleration\",\"sprint_speed\",\"agility\",\"reactions\",\"balance\",\"shot_power\",\"jumping\",\"stamina\",\"strength\",\"long_shots\",\"aggression\",\"interceptions\",\"positioning\",\"vision\",\"penalties\",\"marking\",\"standing_tackle\",\"sliding_tackle\",\"gk_diving\",\"gk_handling\",\"gk_kicking\",\"gk_positioning\",\"gk_reflexes\"]\n",
    "\n",
    "attributesSchema = StructType([\n",
    "    StructField(\"id\", IntegerType(), False),\n",
    "    StructField(\"player_fifa_api_id\", IntegerType(), True),\n",
    "    StructField(\"player_api_id\", IntegerType(), True),\n",
    "    StructField(\"date\", TimestampType(), True),\n",
    "    StructField(\"overall_rating\", IntegerType(), True),\n",
    "    StructField(\"potential\", IntegerType(), True),\n",
    "    StructField(\"preferred_foot\", StringType(), True),\n",
    "    StructField(\"attacking_work_rate\", StringType(), True),\n",
    "    StructField(\"defensive_work_rate\", StringType(), True)] + [StructField(s, IntegerType(), True) for s in finalColumns])\n",
    "\n"
   ]
  },
  {
   "cell_type": "code",
   "execution_count": 3,
   "metadata": {
    "collapsed": false
   },
   "outputs": [
    {
     "data": {
      "text/plain": [
       "183978"
      ]
     },
     "execution_count": 3,
     "metadata": {},
     "output_type": "execute_result"
    }
   ],
   "source": [
    "player_rdd = sc.textFile(player_file)\n",
    "player_header = player_rdd.first()\n",
    "player_rdd = player_rdd.filter(lambda row: row != player_header).persist()\n",
    "attributes_rdd = sc.textFile(attributes_file)\n",
    "attributes_header = attributes_rdd.first()\n",
    "attributes_rdd = attributes_rdd.filter(lambda row: row != attributes_header).persist()\n",
    "player_rdd.count()\n",
    "attributes_rdd.count()"
   ]
  },
  {
   "cell_type": "code",
   "execution_count": 4,
   "metadata": {
    "collapsed": true
   },
   "outputs": [],
   "source": [
    "player_df = sqlContext.createDataFrame(player_rdd.map(lambda row: stringToPlayer(row.split(','))), playerSchema)\n",
    "attributes_df = sqlContext.createDataFrame(attributes_rdd.map(lambda row: stringToAttributes(row.split(','))), attributesSchema)"
   ]
  },
  {
   "cell_type": "code",
   "execution_count": 5,
   "metadata": {
    "collapsed": false
   },
   "outputs": [],
   "source": [
    "player_merge=player_df.join(attributes_df,player_df.player_api_id==attributes_df.player_api_id,'left').select(player_df.id, player_df.player_api_id, player_df.player_fifa_api_id,\"player_name\", \"birthday\", \"height\", \"weight\", \"date\", \"overall_rating\", \"potential\", \"preferred_foot\", \"attacking_work_rate\",\"defensive_work_rate\",\"crossing\",\"finishing\",\"heading_accuracy\",\"short_passing\",\"volleys\",\"dribbling\",\"curve\",\"free_kick_accuracy\",\"long_passing\",\"ball_control\",\"acceleration\",\"sprint_speed\",\"agility\",\"reactions\",\"balance\",\"shot_power\",\"jumping\",\"stamina\",\"strength\",\"long_shots\",\"aggression\",\"interceptions\",\"positioning\",\"vision\",\"penalties\",\"marking\",\"standing_tackle\",\"sliding_tackle\",\"gk_diving\",\"gk_handling\",\"gk_kicking\",\"gk_positioning\",\"gk_reflexes\")"
   ]
  },
  {
   "cell_type": "code",
   "execution_count": 6,
   "metadata": {
    "collapsed": false
   },
   "outputs": [
    {
     "data": {
      "text/plain": [
       "Row(id=3402, player_api_id=11317, player_fifa_api_id=153267, player_name=u'Florent Ghisolfi', birthday=datetime.datetime(1985, 2, 28, 0, 0), height=175.25999450683594, weight=154, date=datetime.datetime(2014, 3, 21, 0, 0), overall_rating=64, potential=65, preferred_foot=u'right', attacking_work_rate=u'medium', defensive_work_rate=u'medium', crossing=44, finishing=40, heading_accuracy=59, short_passing=67, volleys=40, dribbling=61, curve=41, free_kick_accuracy=49, long_passing=65, ball_control=63, acceleration=58, sprint_speed=61, agility=60, reactions=69, balance=74, shot_power=53, jumping=62, stamina=71, strength=64, long_shots=57, aggression=76, interceptions=61, positioning=55, vision=63, penalties=44, marking=55, standing_tackle=71, sliding_tackle=61, gk_diving=7, gk_handling=10, gk_kicking=15, gk_positioning=5, gk_reflexes=9)"
      ]
     },
     "execution_count": 6,
     "metadata": {},
     "output_type": "execute_result"
    }
   ],
   "source": [
    "#cached parent DF for final DF below to save in memory and aid computation time\n",
    "player_merge.cache()\n",
    "player_merge.first()"
   ]
  },
  {
   "cell_type": "markdown",
   "metadata": {},
   "source": [
    "# FeaturesExtraction"
   ]
  },
  {
   "cell_type": "code",
   "execution_count": 7,
   "metadata": {
    "collapsed": false
   },
   "outputs": [],
   "source": [
    "#Calculation of Age\n",
    "df2=player_merge.withColumn('age',datediff('date','birthday')/365.0)\n",
    "df2=df2.withColumn(\"intage\",df2[\"age\"].cast(IntegerType())).drop('age').withColumnRenamed(\"intage\",\"age\")"
   ]
  },
  {
   "cell_type": "code",
   "execution_count": 8,
   "metadata": {
    "collapsed": false
   },
   "outputs": [
    {
     "name": "stdout",
     "output_type": "stream",
     "text": [
      "+---+\n",
      "|age|\n",
      "+---+\n",
      "| 29|\n",
      "| 28|\n",
      "| 28|\n",
      "| 28|\n",
      "| 27|\n",
      "| 27|\n",
      "| 27|\n",
      "| 26|\n",
      "| 25|\n",
      "| 23|\n",
      "| 22|\n",
      "| 21|\n",
      "| 32|\n",
      "| 31|\n",
      "| 31|\n",
      "| 29|\n",
      "| 28|\n",
      "| 28|\n",
      "| 27|\n",
      "| 26|\n",
      "+---+\n",
      "only showing top 20 rows\n",
      "\n"
     ]
    }
   ],
   "source": [
    "df2.select(\"age\").show()"
   ]
  },
  {
   "cell_type": "code",
   "execution_count": 9,
   "metadata": {
    "collapsed": true
   },
   "outputs": [],
   "source": [
    "df2.write.saveAsTable(\"Players\")"
   ]
  }
 ],
 "metadata": {
  "anaconda-cloud": {},
  "kernelspec": {
   "display_name": "Python [conda root]",
   "language": "python",
   "name": "conda-root-py"
  },
  "language_info": {
   "codemirror_mode": {
    "name": "ipython",
    "version": 2
   },
   "file_extension": ".py",
   "mimetype": "text/x-python",
   "name": "python",
   "nbconvert_exporter": "python",
   "pygments_lexer": "ipython2",
   "version": "2.7.12"
  }
 },
 "nbformat": 4,
 "nbformat_minor": 1
}
