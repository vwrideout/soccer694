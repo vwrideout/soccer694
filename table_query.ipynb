{
 "cells": [
  {
   "cell_type": "code",
   "execution_count": 1,
   "metadata": {
    "collapsed": true
   },
   "outputs": [],
   "source": [
    "from pyspark import SparkContext, SparkConf\n",
    "from pyspark.sql import Row\n",
    "from datetime import datetime\n",
    "from pyspark.sql.functions import *\n",
    "from pyspark.sql.types import *\n",
    "from pyspark.sql import SQLContext"
   ]
  },
  {
   "cell_type": "code",
   "execution_count": 2,
   "metadata": {
    "collapsed": false
   },
   "outputs": [],
   "source": [
    "#first query may take a few seconds, instaneous after\n",
    "resultDF = sqlContext.sql(\"SELECT date FROM Players\")"
   ]
  },
  {
   "cell_type": "code",
   "execution_count": 3,
   "metadata": {
    "collapsed": false
   },
   "outputs": [
    {
     "name": "stdout",
     "output_type": "stream",
     "text": [
      "+--------------------+\n",
      "|                date|\n",
      "+--------------------+\n",
      "|2009-08-30 00:00:...|\n",
      "|2009-02-22 00:00:...|\n",
      "|2008-08-30 00:00:...|\n",
      "|2007-08-30 00:00:...|\n",
      "|2007-02-22 00:00:...|\n",
      "|2015-12-17 00:00:...|\n",
      "|2015-09-21 00:00:...|\n",
      "|2015-07-31 00:00:...|\n",
      "|2015-07-24 00:00:...|\n",
      "|2015-07-03 00:00:...|\n",
      "|2015-03-06 00:00:...|\n",
      "|2015-02-13 00:00:...|\n",
      "|2014-12-19 00:00:...|\n",
      "|2014-09-18 00:00:...|\n",
      "|2014-05-16 00:00:...|\n",
      "|2013-09-20 00:00:...|\n",
      "|2012-02-22 00:00:...|\n",
      "|2011-08-30 00:00:...|\n",
      "|2011-02-22 00:00:...|\n",
      "|2010-08-30 00:00:...|\n",
      "+--------------------+\n",
      "only showing top 20 rows\n",
      "\n"
     ]
    }
   ],
   "source": [
    "resultDF.show()"
   ]
  }
 ],
 "metadata": {
  "anaconda-cloud": {},
  "kernelspec": {
   "display_name": "Python [conda root]",
   "language": "python",
   "name": "conda-root-py"
  },
  "language_info": {
   "codemirror_mode": {
    "name": "ipython",
    "version": 2
   },
   "file_extension": ".py",
   "mimetype": "text/x-python",
   "name": "python",
   "nbconvert_exporter": "python",
   "pygments_lexer": "ipython2",
   "version": "2.7.12"
  }
 },
 "nbformat": 4,
 "nbformat_minor": 1
}
