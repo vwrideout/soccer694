{
 "cells": [
  {
   "cell_type": "code",
   "execution_count": 1,
   "metadata": {
    "collapsed": false
   },
   "outputs": [],
   "source": [
    "from pyspark import SparkContext, SparkConf\n",
    "from pyspark.sql import Row\n",
    "from datetime import datetime\n",
    "from pyspark.sql.functions import *\n",
    "from pyspark.sql.types import *\n",
    "from pyspark.sql import SQLContext"
   ]
  },
  {
   "cell_type": "code",
   "execution_count": 2,
   "metadata": {
    "collapsed": false
   },
   "outputs": [],
   "source": [
    "app_name = \"i_dunno\"\n",
    "player_file = \"data/Player.csv\"\n",
    "attributes_file = \"data/Player_Attributes.csv\"\n",
    "\n",
    "def toIntSafe(inval):\n",
    "    try:\n",
    "        return int(inval)\n",
    "    except ValueError:\n",
    "        return None\n",
    "\n",
    "def toTimeSafe(inval):\n",
    "    try:\n",
    "        return datetime.strptime(inval, \"%Y-%m-%d %H:%M:%S\")\n",
    "    except ValueError:\n",
    "        return None\n",
    "\n",
    "def toFloatSafe(inval):\n",
    "    try:\n",
    "        return float(inval)\n",
    "    except ValueError:\n",
    "        return \n",
    "\n",
    "def stringToPlayer(s):\n",
    "    return Row(\n",
    "        toIntSafe(s[0]),\n",
    "        toIntSafe(s[1]),\n",
    "        s[2].strip('\"'),\n",
    "        toIntSafe(s[3]),\n",
    "        toTimeSafe(s[4].strip('\"')),\n",
    "        toFloatSafe(s[5]),\n",
    "        toIntSafe(s[6]))\n",
    "\n",
    "def stringToAttributes(s):\n",
    "    return Row(\n",
    "        toIntSafe(s[0]),\n",
    "        toIntSafe(s[1]),\n",
    "        toIntSafe(s[2]),\n",
    "        toTimeSafe(s[3].strip('\"')),\n",
    "        toIntSafe(s[4]),\n",
    "        toIntSafe(s[5]),\n",
    "        s[6],\n",
    "        s[7],\n",
    "        s[8],\n",
    "        *[toIntSafe(field) for field in s[9:]]\n",
    "        )\n",
    "\n",
    "playerSchema = StructType([\n",
    "    StructField(\"id\", IntegerType(), False),\n",
    "    StructField(\"player_api_id\", IntegerType(), True),\n",
    "    StructField(\"player_name\", StringType(), True),\n",
    "    StructField(\"player_fifa_api_id\", IntegerType(), True),\n",
    "    StructField(\"birthday\", TimestampType(), True),\n",
    "    StructField(\"height\", FloatType(), True),\n",
    "    StructField(\"weight\", IntegerType(), True)\n",
    "    ])\n",
    "\n",
    "finalColumns = [\"crossing\",\"finishing\",\"heading_accuracy\",\"short_passing\",\"volleys\",\"dribbling\",\"curve\",\"free_kick_accuracy\",\"long_passing\",\"ball_control\",\"acceleration\",\"sprint_speed\",\"agility\",\"reactions\",\"balance\",\"shot_power\",\"jumping\",\"stamina\",\"strength\",\"long_shots\",\"aggression\",\"interceptions\",\"positioning\",\"vision\",\"penalties\",\"marking\",\"standing_tackle\",\"sliding_tackle\",\"gk_diving\",\"gk_handling\",\"gk_kicking\",\"gk_positioning\",\"gk_reflexes\"]\n",
    "\n",
    "attributesSchema = StructType([\n",
    "    StructField(\"id\", IntegerType(), False),\n",
    "    StructField(\"player_fifa_api_id\", IntegerType(), True),\n",
    "    StructField(\"player_api_id\", IntegerType(), True),\n",
    "    StructField(\"date\", TimestampType(), True),\n",
    "    StructField(\"overall_rating\", IntegerType(), True),\n",
    "    StructField(\"potential\", IntegerType(), True),\n",
    "    StructField(\"preferred_foot\", StringType(), True),\n",
    "    StructField(\"attacking_work_rate\", StringType(), True),\n",
    "    StructField(\"defensive_work_rate\", StringType(), True)] + [StructField(s, IntegerType(), True) for s in finalColumns])\n",
    "\n"
   ]
  },
  {
   "cell_type": "code",
   "execution_count": 3,
   "metadata": {
    "collapsed": false
   },
   "outputs": [
    {
     "data": {
      "text/plain": [
       "183978"
      ]
     },
     "execution_count": 3,
     "metadata": {},
     "output_type": "execute_result"
    }
   ],
   "source": [
    "player_rdd = sc.textFile(player_file)\n",
    "player_header = player_rdd.first()\n",
    "player_rdd = player_rdd.filter(lambda row: row != player_header).persist()\n",
    "attributes_rdd = sc.textFile(attributes_file)\n",
    "attributes_header = attributes_rdd.first()\n",
    "attributes_rdd = attributes_rdd.filter(lambda row: row != attributes_header).persist()\n",
    "player_rdd.count()\n",
    "attributes_rdd.count()"
   ]
  },
  {
   "cell_type": "code",
   "execution_count": 4,
   "metadata": {
    "collapsed": true
   },
   "outputs": [],
   "source": [
    "player_df = sqlContext.createDataFrame(player_rdd.map(lambda row: stringToPlayer(row.split(','))), playerSchema)\n",
    "attributes_df = sqlContext.createDataFrame(attributes_rdd.map(lambda row: stringToAttributes(row.split(','))), attributesSchema)"
   ]
  },
  {
   "cell_type": "code",
   "execution_count": 5,
   "metadata": {
    "collapsed": false
   },
   "outputs": [],
   "source": [
    "player_merge=player_df.join(attributes_df,player_df.player_api_id==attributes_df.player_api_id,'left').select(player_df.id, player_df.player_api_id, player_df.player_fifa_api_id,\"player_name\", \"birthday\", \"height\", \"weight\", \"date\", \"overall_rating\", \"potential\", \"preferred_foot\", \"attacking_work_rate\",\"defensive_work_rate\",\"crossing\",\"finishing\",\"heading_accuracy\",\"short_passing\",\"volleys\",\"dribbling\",\"curve\",\"free_kick_accuracy\",\"long_passing\",\"ball_control\",\"acceleration\",\"sprint_speed\",\"agility\",\"reactions\",\"balance\",\"shot_power\",\"jumping\",\"stamina\",\"strength\",\"long_shots\",\"aggression\",\"interceptions\",\"positioning\",\"vision\",\"penalties\",\"marking\",\"standing_tackle\",\"sliding_tackle\",\"gk_diving\",\"gk_handling\",\"gk_kicking\",\"gk_positioning\",\"gk_reflexes\")"
   ]
  },
  {
   "cell_type": "code",
   "execution_count": 6,
   "metadata": {
    "collapsed": false
   },
   "outputs": [
    {
     "data": {
      "text/plain": [
       "Row(id=3402, player_api_id=11317, player_fifa_api_id=153267, player_name=u'Florent Ghisolfi', birthday=datetime.datetime(1985, 2, 28, 0, 0), height=175.25999450683594, weight=154, date=datetime.datetime(2014, 3, 21, 0, 0), overall_rating=64, potential=65, preferred_foot=u'right', attacking_work_rate=u'medium', defensive_work_rate=u'medium', crossing=44, finishing=40, heading_accuracy=59, short_passing=67, volleys=40, dribbling=61, curve=41, free_kick_accuracy=49, long_passing=65, ball_control=63, acceleration=58, sprint_speed=61, agility=60, reactions=69, balance=74, shot_power=53, jumping=62, stamina=71, strength=64, long_shots=57, aggression=76, interceptions=61, positioning=55, vision=63, penalties=44, marking=55, standing_tackle=71, sliding_tackle=61, gk_diving=7, gk_handling=10, gk_kicking=15, gk_positioning=5, gk_reflexes=9)"
      ]
     },
     "execution_count": 6,
     "metadata": {},
     "output_type": "execute_result"
    }
   ],
   "source": [
    "#cached parent DF for final DF below to save in memory and aid computation time\n",
    "player_merge.cache()\n",
    "player_merge.first()"
   ]
  },
  {
   "cell_type": "markdown",
   "metadata": {},
   "source": [
    "# FeaturesExtraction"
   ]
  },
  {
   "cell_type": "code",
   "execution_count": 7,
   "metadata": {
    "collapsed": false
   },
   "outputs": [],
   "source": [
    "#Calculation of Age\n",
    "df2=player_merge.withColumn('age',datediff('date','birthday')/365.0)\n",
    "df2=df2.withColumn(\"intage\",df2[\"age\"].cast(IntegerType())).drop('age').withColumnRenamed(\"intage\",\"age\")"
   ]
  },
  {
   "cell_type": "code",
   "execution_count": 9,
   "metadata": {
    "collapsed": true
   },
   "outputs": [],
   "source": [
    "df2.registerTempTable('players')"
   ]
  },
  {
   "cell_type": "code",
   "execution_count": 50,
   "metadata": {
    "collapsed": false
   },
   "outputs": [],
   "source": [
    "## Select unique player rows as most recent complete attribute data per player\n",
    "uniq_playersDF = sqlContext.sql(\"\"\"\n",
    "Select *\n",
    "    from players\n",
    "    inner join \n",
    "    (\n",
    "        Select max(date) as LatestDate, player_api_id as id2\n",
    "        from players\n",
    "        WHERE crossing is not null \n",
    "            and finishing is not null\n",
    "            and heading_accuracy is not null\n",
    "            and short_passing is not null\n",
    "            and volleys is not null\n",
    "            and dribbling is not null\n",
    "            and curve is not null\n",
    "            and free_kick_accuracy is not null\n",
    "            and long_passing is not null\n",
    "            and ball_control is not null\n",
    "            and acceleration is not null\n",
    "            and sprint_speed is not null\n",
    "            and agility is not null\n",
    "            and reactions is not null\n",
    "            and balance is not null\n",
    "            and shot_power is not null\n",
    "            and jumping is not null\n",
    "            and stamina is not null\n",
    "            and strength is not null\n",
    "            and long_shots is not null\n",
    "            and aggression is not null\n",
    "            and interceptions is not null\n",
    "            and positioning is not null\n",
    "            and vision is not null\n",
    "            and penalties is not null\n",
    "            and marking is not null\n",
    "            and standing_tackle is not null\n",
    "            and sliding_tackle is not null\n",
    "            and gk_diving is not null\n",
    "            and gk_handling is not null\n",
    "            and gk_kicking is not null\n",
    "            and gk_positioning is not null\n",
    "            and gk_reflexes is not null\n",
    "        Group by player_api_id\n",
    "    ) as rhs\n",
    "    on date = LatestDate\n",
    "    and player_api_id = id2\n",
    "    WHERE overall_rating is not null\n",
    "    \"\"\")\n",
    "uniq_playersDF.registerTempTable('players2')"
   ]
  },
  {
   "cell_type": "code",
   "execution_count": 89,
   "metadata": {
    "collapsed": true
   },
   "outputs": [],
   "source": [
    "# Define attribute score columns, and categories of attributes\n",
    "attributes = ['crossing', 'finishing', 'heading_accuracy', 'short_passing', 'volleys',\n",
    "             'dribbling', 'curve', 'free_kick_accuracy', 'long_passing', 'ball_control',\n",
    "             'acceleration', 'sprint_speed', 'agility', 'reactions', 'balance',\n",
    "             'shot_power', 'jumping', 'stamina', 'strength', 'long_shots',\n",
    "             'aggression', 'interceptions', 'positioning', 'vision', 'penalties',\n",
    "             'marking', 'standing_tackle', 'sliding_tackle',\n",
    "             'gk_diving', 'gk_handling', 'gk_kicking', 'gk_positioning', 'gk_reflexes']\n",
    "\n",
    "attr_cats = ['attacking', 'skill', 'movement', 'power', 'mentality',\n",
    "             'defending', 'goalkeeping']\n",
    "\n",
    "attacking = attributes[:5]\n",
    "skill = attributes[5:10]\n",
    "movement = attributes[10:15]\n",
    "power = attributes[15:20]\n",
    "mentality = attributes[20:25]\n",
    "defending = attributes[25:28]\n",
    "goalkeeping = attributes[28:]"
   ]
  },
  {
   "cell_type": "code",
   "execution_count": 87,
   "metadata": {
    "collapsed": false
   },
   "outputs": [],
   "source": [
    "# Calculate total attribute and category averages, and standardize category scores by dividing by overall average\n",
    "query = \"\"\"\n",
    "SELECT *, \n",
    "    (({})/{})/tot_avg_score as attacking_std_score, \n",
    "    (({})/{})/tot_avg_score as skill_std_score, \n",
    "    (({})/{})/tot_avg_score as movement_std_score, \n",
    "    (({})/{})/tot_avg_score as power_std_score, \n",
    "    (({})/{})/tot_avg_score as mentality_std_score, \n",
    "    (({})/{})/tot_avg_score as defending_std_score, \n",
    "    (({})/{})/tot_avg_score as goalkeeping_std_score \n",
    "        \n",
    "FROM (\n",
    "    SELECT *, ({})/{} as tot_avg_score\n",
    "    FROM players2\n",
    "     ) as a\"\"\".format(\"+\".join(attacking), len(attacking),\n",
    "                      \"+\".join(skill), len(skill),\n",
    "                      \"+\".join(movement), len(movement),\n",
    "                      \"+\".join(power), len(power),\n",
    "                      \"+\".join(mentality), len(mentality),\n",
    "                      \"+\".join(defending), len(defending),\n",
    "                      \"+\".join(goalkeeping), len(goalkeeping),\n",
    "                      \"+\".join(attributes), len(attributes))\n",
    "std_scoreDF = sqlContext.sql(query)"
   ]
  },
  {
   "cell_type": "code",
   "execution_count": 88,
   "metadata": {
    "collapsed": true
   },
   "outputs": [],
   "source": [
    "std_scoreDF.write.saveAsTable('for_clustering')"
   ]
  },
  {
   "cell_type": "markdown",
   "metadata": {},
   "source": [
    "# Clustering"
   ]
  },
  {
   "cell_type": "code",
   "execution_count": 92,
   "metadata": {
    "collapsed": false
   },
   "outputs": [],
   "source": [
    "from pyspark.ml.feature import VectorAssembler\n",
    "from pyspark.ml.feature import PCA\n",
    "from pyspark.ml.clustering import KMeans"
   ]
  },
  {
   "cell_type": "code",
   "execution_count": 95,
   "metadata": {
    "collapsed": true
   },
   "outputs": [],
   "source": [
    "transformer = VectorAssembler(outputCol = 'features', \n",
    "                              inputCols = std_scoreDF.columns[-7:])"
   ]
  },
  {
   "cell_type": "code",
   "execution_count": 96,
   "metadata": {
    "collapsed": false
   },
   "outputs": [],
   "source": [
    "points = transformer.transform(std_scoreDF).select('features')"
   ]
  },
  {
   "cell_type": "code",
   "execution_count": 124,
   "metadata": {
    "collapsed": false
   },
   "outputs": [],
   "source": [
    "wssse_list = [0 for x in range(0, 30)]\n",
    "for k in range(3, 30):\n",
    "    kmeans = KMeans(k = k)\n",
    "    model = kmeans.fit(points)\n",
    "    avg_wssse = model.computeCost(points) / k\n",
    "    wssse_list[k] = avg_wssse"
   ]
  },
  {
   "cell_type": "code",
   "execution_count": 107,
   "metadata": {
    "collapsed": false
   },
   "outputs": [],
   "source": [
    "import matplotlib.pyplot as plt\n",
    "%matplotlib inline"
   ]
  },
  {
   "cell_type": "code",
   "execution_count": 130,
   "metadata": {
    "collapsed": false
   },
   "outputs": [
    {
     "data": {
      "text/plain": [
       "<matplotlib.text.Text at 0x11964fd90>"
      ]
     },
     "execution_count": 130,
     "metadata": {},
     "output_type": "execute_result"
    },
    {
     "data": {
      "image/png": "[encoded data removed]",
      "text/plain": [
       "<matplotlib.figure.Figure at 0x119227150>"
      ]
     },
     "metadata": {},
     "output_type": "display_data"
    }
   ],
   "source": [
    "K = range(3, 30)\n",
    "avg_wssse = wssse_list[3:]\n",
    "elbow_ix = 5 #elbow point for curve, k = 8\n",
    "fig = plt.figure()\n",
    "ax = fig.add_subplot(111)\n",
    "ax.plot(K, avg_wssse, 'b*-')\n",
    "ax.plot(K[elbow_ix], avg_wssse[elbow_ix], marker='o', markersize=12, \n",
    "    markeredgewidth=2, markeredgecolor='r', markerfacecolor='None')\n",
    "plt.grid(True)\n",
    "plt.xlabel('Number of clusters')\n",
    "plt.ylabel('Average within-cluster sum of squares')\n",
    "plt.title('Elbow for KMeans clustering')"
   ]
  },
  {
   "cell_type": "code",
   "execution_count": 132,
   "metadata": {
    "collapsed": true
   },
   "outputs": [],
   "source": [
    "# Final clustering with k = 8\n",
    "kmeans = KMeans(k = 8)\n",
    "model = kmeans.fit(points)\n",
    "avg_wssse = model.computeCost(points) / k\n",
    "centers = model.clusterCenters()"
   ]
  },
  {
   "cell_type": "code",
   "execution_count": 136,
   "metadata": {
    "collapsed": false
   },
   "outputs": [
    {
     "data": {
      "text/plain": [
       "[['attacking',\n",
       "  'skill',\n",
       "  'movement',\n",
       "  'power',\n",
       "  'mentality',\n",
       "  'defending',\n",
       "  'goalkeeping'],\n",
       " [array([ 0.97737183,  0.94154615,  1.19349201,  1.27232874,  1.09962038,\n",
       "          1.48757051,  0.22309858]),\n",
       "  array([ 0.99597596,  1.06742553,  1.3146245 ,  1.19263357,  1.08134092,\n",
       "          1.24531057,  0.20081319]),\n",
       "  array([ 0.6877159 ,  0.68624392,  1.23148524,  1.1461712 ,  0.70945782,\n",
       "          0.66461423,  1.74015739]),\n",
       "  array([ 1.17488532,  1.20723602,  1.4547331 ,  1.23841349,  1.03659352,\n",
       "          0.47282548,  0.20444325]),\n",
       "  array([ 1.08005943,  1.14485625,  1.11278818,  1.2231495 ,  1.15295346,\n",
       "          1.16752707,  0.18567693]),\n",
       "  array([ 1.24873613,  1.14707718,  1.23383743,  1.32973699,  1.13205259,\n",
       "          0.51095256,  0.20198814]),\n",
       "  array([ 1.12288875,  1.21401003,  1.29210541,  1.18081452,  1.09684351,\n",
       "          0.83410163,  0.19287679]),\n",
       "  array([ 0.48485394,  0.52988777,  1.43295966,  1.18694881,  0.71374205,\n",
       "          0.39754864,  2.01307859])]]"
      ]
     },
     "execution_count": 136,
     "metadata": {},
     "output_type": "execute_result"
    }
   ],
   "source": [
    "[attr_cats, (attr_cats[x], centers]"
   ]
  },
  {
   "cell_type": "code",
   "execution_count": 134,
   "metadata": {
    "collapsed": true
   },
   "outputs": [],
   "source": [
    "from radar_chart import *"
   ]
  },
  {
   "cell_type": "code",
   "execution_count": null,
   "metadata": {
    "collapsed": true
   },
   "outputs": [],
   "source": [
    "N = 7\n",
    "theta = radar_factory(N, frame='polygon')\n",
    "\n",
    "data = example_data()\n",
    "spoke_labels = data.pop(0)\n",
    "\n",
    "fig, axes = plt.subplots(figsize=(9, 9), nrows=2, ncols=2,\n",
    "                         subplot_kw=dict(projection='radar'))\n",
    "fig.subplots_adjust(wspace=0.25, hspace=0.20, top=0.85, bottom=0.05)\n",
    "\n",
    "colors = ['b', 'r', 'g', 'm', 'y']\n",
    "# Plot the four cases from the example data on separate axes\n",
    "for ax, (title, case_data) in zip(axes.flatten(), data):\n",
    "    ax.set_rgrids([0.2, 0.4, 0.6, 0.8])\n",
    "    ax.set_title(title, weight='bold', size='medium', position=(0.5, 1.1),\n",
    "                 horizontalalignment='center', verticalalignment='center')\n",
    "    for d, color in zip(case_data, colors):\n",
    "        ax.plot(theta, d, color=color)\n",
    "        ax.fill(theta, d, facecolor=color, alpha=0.25)\n",
    "    ax.set_varlabels(spoke_labels)\n",
    "\n",
    "# add legend relative to top-left plot\n",
    "ax = axes[0, 0]\n",
    "labels = ('Factor 1', 'Factor 2', 'Factor 3', 'Factor 4', 'Factor 5')\n",
    "legend = ax.legend(labels, loc=(0.9, .95),\n",
    "                   labelspacing=0.1, fontsize='small')\n",
    "\n",
    "fig.text(0.5, 0.965, '5-Factor Solution Profiles Across Four Scenarios',\n",
    "         horizontalalignment='center', color='black', weight='bold',\n",
    "         size='large')\n",
    "\n",
    "plt.show()"
   ]
  }
 ],
 "metadata": {
  "anaconda-cloud": {},
  "kernelspec": {
   "display_name": "Python [conda env:msan]",
   "language": "python",
   "name": "conda-env-msan-py"
  },
  "language_info": {
   "codemirror_mode": {
    "name": "ipython",
    "version": 2
   },
   "file_extension": ".py",
   "mimetype": "text/x-python",
   "name": "python",
   "nbconvert_exporter": "python",
   "pygments_lexer": "ipython2",
   "version": "2.7.12"
  }
 },
 "nbformat": 4,
 "nbformat_minor": 1
}
